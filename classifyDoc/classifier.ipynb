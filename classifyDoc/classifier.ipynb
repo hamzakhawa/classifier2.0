{
 "cells": [
  {
   "cell_type": "code",
   "execution_count": 13,
   "metadata": {},
   "outputs": [
    {
     "name": "stderr",
     "output_type": "stream",
     "text": [
      "Hardware accelerator e.g. GPU is available in the environment, but no `device` argument is passed to the `Pipeline` object. Model will be on CPU.\n"
     ]
    },
    {
     "name": "stdout",
     "output_type": "stream",
     "text": [
      "Technology\n",
      "0.966831624507904\n"
     ]
    }
   ],
   "source": [
    "import torch\n",
    "from transformers import pipeline\n",
    "\n",
    "# Load the zero-shot text classification model\n",
    "classifier = pipeline(model = \"facebook/bart-large-mnli\")\n",
    "\n",
    "# Define the candidate classes\n",
    "candidate_classes = [\"Technology\", \"Sports\", \"Politics\", \"Health\"]\n",
    "\n",
    "# Define the input document\n",
    "document = \"This article discusses the impact of AI in Technology.\"\n",
    "\n",
    "# Perform zero-shot classification\n",
    "result = classifier(document, candidate_classes)\n",
    "\n",
    "# Print the predicted label and associated confidence scores\n",
    "print(result['labels'][0])\n",
    "print(result['scores'][0])"
   ]
  }
 ],
 "metadata": {
  "kernelspec": {
   "display_name": "venv",
   "language": "python",
   "name": "python3"
  },
  "language_info": {
   "codemirror_mode": {
    "name": "ipython",
    "version": 3
   },
   "file_extension": ".py",
   "mimetype": "text/x-python",
   "name": "python",
   "nbconvert_exporter": "python",
   "pygments_lexer": "ipython3",
   "version": "3.9.6"
  }
 },
 "nbformat": 4,
 "nbformat_minor": 2
}
